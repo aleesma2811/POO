{
 "cells": [
  {
   "cell_type": "code",
   "execution_count": 5,
   "metadata": {},
   "outputs": [],
   "source": [
    "#Importar librerias y el set de datos que bajaron de Moodle (carpetas_2022.csv)\n"
   ]
  },
  {
   "cell_type": "code",
   "execution_count": 6,
   "metadata": {},
   "outputs": [],
   "source": [
    "#Cuantas filas y columnas tiene el set de datos?"
   ]
  },
  {
   "cell_type": "code",
   "execution_count": 7,
   "metadata": {},
   "outputs": [],
   "source": [
    "#Hay columnas con valores nulos?"
   ]
  },
  {
   "cell_type": "code",
   "execution_count": null,
   "metadata": {},
   "outputs": [],
   "source": [
    "#NO TOCAR ESTA LINEA. ES PARA ELIMINAR VALORES NULOS EN UNA COLUMNA QUE USAREMOS ADELANTE\n",
    "#Llamen df a su dataframe, de lo contrario no va a jalar\n",
    "#Dropear REGISTROS que tengan \"ao_hechos\" nulo\n",
    "df.dropna(subset=['ao_hechos'], inplace=True)"
   ]
  },
  {
   "cell_type": "code",
   "execution_count": 9,
   "metadata": {},
   "outputs": [],
   "source": [
    "#verificar que ya no existan registros nulos para \"ao_hechos\""
   ]
  },
  {
   "cell_type": "code",
   "execution_count": 10,
   "metadata": {},
   "outputs": [],
   "source": [
    "#Cuantos tipos de delito se encuentran registrados en el set de datos (usar columna delito)"
   ]
  },
  {
   "cell_type": "code",
   "execution_count": 11,
   "metadata": {},
   "outputs": [],
   "source": [
    "#La alcaldia con mas delitos contando los años 2022 y 2023"
   ]
  },
  {
   "cell_type": "code",
   "execution_count": 12,
   "metadata": {},
   "outputs": [],
   "source": [
    "#El delito mas frecuente en la alcaldia XOCHIMILCO (usar columna delito)"
   ]
  },
  {
   "cell_type": "code",
   "execution_count": 13,
   "metadata": {},
   "outputs": [],
   "source": [
    "#La colonia con mas delitos de IZTAPALAPA en 2023"
   ]
  },
  {
   "cell_type": "code",
   "execution_count": 14,
   "metadata": {},
   "outputs": [],
   "source": [
    "#Los 7 delitos mas comunes en la colonia obtenida en el inciso anterior"
   ]
  },
  {
   "cell_type": "code",
   "execution_count": 15,
   "metadata": {},
   "outputs": [],
   "source": [
    "#El mes con mas delitos de 2022 (usar columna 'mes_hechos')"
   ]
  },
  {
   "cell_type": "code",
   "execution_count": 16,
   "metadata": {},
   "outputs": [],
   "source": [
    "#La alcaldia con menos delitos registrados en todo el dataset (ignorar \"FUERA DE CDMX\" y \"CDMX\")"
   ]
  },
  {
   "cell_type": "code",
   "execution_count": 17,
   "metadata": {},
   "outputs": [],
   "source": [
    "#Alcaldia con mas delitos de \"BIGAMIA\" en todo el set de datos"
   ]
  },
  {
   "cell_type": "code",
   "execution_count": 18,
   "metadata": {},
   "outputs": [],
   "source": [
    "#La alcaldia con mas casos de \"EXTORSION\" en 2022 usar columna \"ao_hechos\"\n"
   ]
  },
  {
   "cell_type": "code",
   "execution_count": null,
   "metadata": {},
   "outputs": [],
   "source": [
    "#El dia de la semana donde mas ROBO A TRANSEUNTE EN VIA PUBLICA CON VIOLENCIA hubo en Iztapalapa en el año 2023\n",
    "#(usar como referencia la columna de fecha hechos)\n",
    "#van a tener que crear uan columna nueva para saber el dia de la semana, guiño guiño"
   ]
  },
  {
   "cell_type": "code",
   "execution_count": null,
   "metadata": {},
   "outputs": [],
   "source": [
    "#En que colonias de Iztapalapa ocurrieron los robos en el dia con mas robos?\n"
   ]
  },
  {
   "cell_type": "code",
   "execution_count": null,
   "metadata": {},
   "outputs": [],
   "source": [
    "#Asumiendo que vivimos en un mundo donde se paga los dias 1 y 15 de cada mes, determinar que \n",
    "#alcaldia vio mas delitos durante dias de paga de quincena en el año 2022"
   ]
  },
  {
   "cell_type": "code",
   "execution_count": null,
   "metadata": {},
   "outputs": [],
   "source": [
    "#Cuales son las 5 colonias que mas delitos vieron en dias de quincena en el año 2022 en la alcaldia resultante de la celda anterior?\n"
   ]
  }
 ],
 "metadata": {
  "kernelspec": {
   "display_name": "Python 3",
   "language": "python",
   "name": "python3"
  },
  "language_info": {
   "codemirror_mode": {
    "name": "ipython",
    "version": 3
   },
   "file_extension": ".py",
   "mimetype": "text/x-python",
   "name": "python",
   "nbconvert_exporter": "python",
   "pygments_lexer": "ipython3",
   "version": "3.10.6"
  },
  "orig_nbformat": 4,
  "vscode": {
   "interpreter": {
    "hash": "949777d72b0d2535278d3dc13498b2535136f6dfe0678499012e853ee9abcab1"
   }
  }
 },
 "nbformat": 4,
 "nbformat_minor": 2
}
