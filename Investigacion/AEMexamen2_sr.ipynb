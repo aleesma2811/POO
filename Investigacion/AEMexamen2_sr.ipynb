{
 "cells": [
  {
   "cell_type": "code",
   "execution_count": 94,
   "metadata": {},
   "outputs": [],
   "source": [
    "#Alejandra Escallada Martínez\n",
    "\n",
    "#Importar librerias y el set de datos que bajaron de Moodle (carpetas_2022.csv)\n",
    "import pandas as pd\n",
    "df = pd.read_csv('carpetas_2022.csv')\n"
   ]
  },
  {
   "cell_type": "code",
   "execution_count": 95,
   "metadata": {},
   "outputs": [
    {
     "data": {
      "text/plain": [
       "(258973, 20)"
      ]
     },
     "execution_count": 95,
     "metadata": {},
     "output_type": "execute_result"
    }
   ],
   "source": [
    "#Cuantas filas y columnas tiene el set de datos?\n",
    "df.shape"
   ]
  },
  {
   "cell_type": "code",
   "execution_count": 96,
   "metadata": {},
   "outputs": [
    {
     "name": "stdout",
     "output_type": "stream",
     "text": [
      "<class 'pandas.core.frame.DataFrame'>\n",
      "RangeIndex: 258973 entries, 0 to 258972\n",
      "Data columns (total 20 columns):\n",
      " #   Column                Non-Null Count   Dtype  \n",
      "---  ------                --------------   -----  \n",
      " 0   ao_hechos             258911 non-null  float64\n",
      " 1   mes_hechos            258911 non-null  object \n",
      " 2   fecha_hechos          258911 non-null  object \n",
      " 3   hora_hechos           258911 non-null  object \n",
      " 4   ao_inicio             258973 non-null  int64  \n",
      " 5   mes_inicio            258973 non-null  object \n",
      " 6   fecha_inicio          258973 non-null  object \n",
      " 7   hora_inicio           258973 non-null  object \n",
      " 8   delito                258973 non-null  object \n",
      " 9   fiscalia              258973 non-null  object \n",
      " 10  agencia               258973 non-null  object \n",
      " 11  unidad_investigacion  258694 non-null  object \n",
      " 12  categoria_delito      258973 non-null  object \n",
      " 13  competencia           258973 non-null  object \n",
      " 14  alcaldia_hechos       258973 non-null  object \n",
      " 15  municipio_hechos      2602 non-null    object \n",
      " 16  colonia_datos         243252 non-null  object \n",
      " 17  fgj_colonia_registro  244215 non-null  object \n",
      " 18  longitud              258973 non-null  float64\n",
      " 19  latitud               258973 non-null  float64\n",
      "dtypes: float64(3), int64(1), object(16)\n",
      "memory usage: 39.5+ MB\n"
     ]
    }
   ],
   "source": [
    "#Hay columnas con valores nulos?\n",
    "df.info()\n",
    "#Sí, ya que algunas columnas tienen distintos conteos en Non-Null Count\n"
   ]
  },
  {
   "cell_type": "code",
   "execution_count": 97,
   "metadata": {},
   "outputs": [],
   "source": [
    "#NO TOCAR ESTA LINEA. ES PARA ELIMINAR VALORES NULOS EN UNA COLUMNA QUE USAREMOS ADELANTE\n",
    "#Llamen df a su dataframe, de lo contrario no va a jalar\n",
    "#Dropear REGISTROS que tengan \"ao_hechos\" nulo\n",
    "df.dropna(subset=['ao_hechos'], inplace=True)"
   ]
  },
  {
   "cell_type": "code",
   "execution_count": 98,
   "metadata": {},
   "outputs": [
    {
     "data": {
      "text/html": [
       "<div>\n",
       "<style scoped>\n",
       "    .dataframe tbody tr th:only-of-type {\n",
       "        vertical-align: middle;\n",
       "    }\n",
       "\n",
       "    .dataframe tbody tr th {\n",
       "        vertical-align: top;\n",
       "    }\n",
       "\n",
       "    .dataframe thead th {\n",
       "        text-align: right;\n",
       "    }\n",
       "</style>\n",
       "<table border=\"1\" class=\"dataframe\">\n",
       "  <thead>\n",
       "    <tr style=\"text-align: right;\">\n",
       "      <th></th>\n",
       "      <th>ao_hechos</th>\n",
       "      <th>mes_hechos</th>\n",
       "      <th>fecha_hechos</th>\n",
       "      <th>hora_hechos</th>\n",
       "      <th>ao_inicio</th>\n",
       "      <th>mes_inicio</th>\n",
       "      <th>fecha_inicio</th>\n",
       "      <th>hora_inicio</th>\n",
       "      <th>delito</th>\n",
       "      <th>fiscalia</th>\n",
       "      <th>agencia</th>\n",
       "      <th>unidad_investigacion</th>\n",
       "      <th>categoria_delito</th>\n",
       "      <th>competencia</th>\n",
       "      <th>alcaldia_hechos</th>\n",
       "      <th>municipio_hechos</th>\n",
       "      <th>colonia_datos</th>\n",
       "      <th>fgj_colonia_registro</th>\n",
       "      <th>longitud</th>\n",
       "      <th>latitud</th>\n",
       "    </tr>\n",
       "  </thead>\n",
       "  <tbody>\n",
       "    <tr>\n",
       "      <th>0</th>\n",
       "      <td>2021.0</td>\n",
       "      <td>Diciembre</td>\n",
       "      <td>2021-12-31</td>\n",
       "      <td>23:00:00</td>\n",
       "      <td>2022</td>\n",
       "      <td>Enero</td>\n",
       "      <td>2022-01-01</td>\n",
       "      <td>00:03:00</td>\n",
       "      <td>ROBO A TRANSEUNTE EN VIA PUBLICA CON VIOLENCIA</td>\n",
       "      <td>FISCALÍA DE INVESTIGACIÓN TERRITORIAL EN ALVAR...</td>\n",
       "      <td>AO-3</td>\n",
       "      <td>UI-1CD</td>\n",
       "      <td>ROBO A TRANSEUNTE EN VÍA PÚBLICA CON Y SIN VIO...</td>\n",
       "      <td>FUERO COMUN</td>\n",
       "      <td>ALVARO OBREGON</td>\n",
       "      <td>NaN</td>\n",
       "      <td>LIBERALES DE 1857</td>\n",
       "      <td>LIBERALES DE 1857</td>\n",
       "      <td>-99.21295</td>\n",
       "      <td>19.39444</td>\n",
       "    </tr>\n",
       "    <tr>\n",
       "      <th>1</th>\n",
       "      <td>2021.0</td>\n",
       "      <td>Octubre</td>\n",
       "      <td>2021-10-29</td>\n",
       "      <td>09:00:00</td>\n",
       "      <td>2022</td>\n",
       "      <td>Enero</td>\n",
       "      <td>2022-01-01</td>\n",
       "      <td>00:06:00</td>\n",
       "      <td>ABUSO DE CONFIANZA</td>\n",
       "      <td>AGENCIA DE DENUNCIA DIGITAL</td>\n",
       "      <td>CEN-1</td>\n",
       "      <td>Unidad de Investigación 1 S/D</td>\n",
       "      <td>DELITO DE BAJO IMPACTO</td>\n",
       "      <td>FUERO COMUN</td>\n",
       "      <td>COYOACAN</td>\n",
       "      <td>NaN</td>\n",
       "      <td>SANTA URSULA COAPA (PBLO)</td>\n",
       "      <td>PUEBLO DE SANTA URSULA COAPA</td>\n",
       "      <td>-99.14214</td>\n",
       "      <td>19.31311</td>\n",
       "    </tr>\n",
       "    <tr>\n",
       "      <th>2</th>\n",
       "      <td>2021.0</td>\n",
       "      <td>Diciembre</td>\n",
       "      <td>2021-12-31</td>\n",
       "      <td>22:30:00</td>\n",
       "      <td>2022</td>\n",
       "      <td>Enero</td>\n",
       "      <td>2022-01-01</td>\n",
       "      <td>00:26:00</td>\n",
       "      <td>LESIONES INTENCIONALES POR ARMA DE FUEGO</td>\n",
       "      <td>FISCALÍA DE INVESTIGACIÓN TERRITORIAL EN GUSTA...</td>\n",
       "      <td>UAT-GAM-3</td>\n",
       "      <td>UI-1SD</td>\n",
       "      <td>LESIONES DOLOSAS POR DISPARO DE ARMA DE FUEGO</td>\n",
       "      <td>FUERO COMUN</td>\n",
       "      <td>VENUSTIANO CARRANZA</td>\n",
       "      <td>NaN</td>\n",
       "      <td>MORELOS I</td>\n",
       "      <td>MORELOS</td>\n",
       "      <td>-99.12139</td>\n",
       "      <td>19.44615</td>\n",
       "    </tr>\n",
       "    <tr>\n",
       "      <th>3</th>\n",
       "      <td>2021.0</td>\n",
       "      <td>Diciembre</td>\n",
       "      <td>2021-12-31</td>\n",
       "      <td>23:11:00</td>\n",
       "      <td>2022</td>\n",
       "      <td>Enero</td>\n",
       "      <td>2022-01-01</td>\n",
       "      <td>00:29:00</td>\n",
       "      <td>DAÑO EN PROPIEDAD AJENA CULPOSA POR TRÁNSITO V...</td>\n",
       "      <td>FISCALÍA DE INVESTIGACIÓN TERRITORIAL EN BENIT...</td>\n",
       "      <td>BJ-2</td>\n",
       "      <td>UI-1CD</td>\n",
       "      <td>DELITO DE BAJO IMPACTO</td>\n",
       "      <td>FUERO COMUN</td>\n",
       "      <td>BENITO JUAREZ</td>\n",
       "      <td>NaN</td>\n",
       "      <td>DEL VALLE VII</td>\n",
       "      <td>DEL VALLE CENTRO</td>\n",
       "      <td>-99.17495</td>\n",
       "      <td>19.36963</td>\n",
       "    </tr>\n",
       "    <tr>\n",
       "      <th>4</th>\n",
       "      <td>2021.0</td>\n",
       "      <td>Diciembre</td>\n",
       "      <td>2021-12-31</td>\n",
       "      <td>21:30:00</td>\n",
       "      <td>2022</td>\n",
       "      <td>Enero</td>\n",
       "      <td>2022-01-01</td>\n",
       "      <td>00:35:00</td>\n",
       "      <td>VIOLENCIA FAMILIAR</td>\n",
       "      <td>FISCALÍA DE INVESTIGACIÓN TERRITORIAL EN GUSTA...</td>\n",
       "      <td>UAT-GAM-3</td>\n",
       "      <td>UI-1SD</td>\n",
       "      <td>DELITO DE BAJO IMPACTO</td>\n",
       "      <td>FUERO COMUN</td>\n",
       "      <td>GUSTAVO A. MADERO</td>\n",
       "      <td>NaN</td>\n",
       "      <td>LA FORESTAL</td>\n",
       "      <td>FORESTAL</td>\n",
       "      <td>-99.12990</td>\n",
       "      <td>19.55972</td>\n",
       "    </tr>\n",
       "  </tbody>\n",
       "</table>\n",
       "</div>"
      ],
      "text/plain": [
       "   ao_hechos mes_hechos fecha_hechos hora_hechos  ao_inicio mes_inicio  \\\n",
       "0     2021.0  Diciembre   2021-12-31    23:00:00       2022      Enero   \n",
       "1     2021.0    Octubre   2021-10-29    09:00:00       2022      Enero   \n",
       "2     2021.0  Diciembre   2021-12-31    22:30:00       2022      Enero   \n",
       "3     2021.0  Diciembre   2021-12-31    23:11:00       2022      Enero   \n",
       "4     2021.0  Diciembre   2021-12-31    21:30:00       2022      Enero   \n",
       "\n",
       "  fecha_inicio hora_inicio                                             delito  \\\n",
       "0   2022-01-01    00:03:00     ROBO A TRANSEUNTE EN VIA PUBLICA CON VIOLENCIA   \n",
       "1   2022-01-01    00:06:00                                 ABUSO DE CONFIANZA   \n",
       "2   2022-01-01    00:26:00           LESIONES INTENCIONALES POR ARMA DE FUEGO   \n",
       "3   2022-01-01    00:29:00  DAÑO EN PROPIEDAD AJENA CULPOSA POR TRÁNSITO V...   \n",
       "4   2022-01-01    00:35:00                                 VIOLENCIA FAMILIAR   \n",
       "\n",
       "                                            fiscalia    agencia  \\\n",
       "0  FISCALÍA DE INVESTIGACIÓN TERRITORIAL EN ALVAR...       AO-3   \n",
       "1                        AGENCIA DE DENUNCIA DIGITAL      CEN-1   \n",
       "2  FISCALÍA DE INVESTIGACIÓN TERRITORIAL EN GUSTA...  UAT-GAM-3   \n",
       "3  FISCALÍA DE INVESTIGACIÓN TERRITORIAL EN BENIT...       BJ-2   \n",
       "4  FISCALÍA DE INVESTIGACIÓN TERRITORIAL EN GUSTA...  UAT-GAM-3   \n",
       "\n",
       "            unidad_investigacion  \\\n",
       "0                         UI-1CD   \n",
       "1  Unidad de Investigación 1 S/D   \n",
       "2                         UI-1SD   \n",
       "3                         UI-1CD   \n",
       "4                         UI-1SD   \n",
       "\n",
       "                                    categoria_delito  competencia  \\\n",
       "0  ROBO A TRANSEUNTE EN VÍA PÚBLICA CON Y SIN VIO...  FUERO COMUN   \n",
       "1                             DELITO DE BAJO IMPACTO  FUERO COMUN   \n",
       "2      LESIONES DOLOSAS POR DISPARO DE ARMA DE FUEGO  FUERO COMUN   \n",
       "3                             DELITO DE BAJO IMPACTO  FUERO COMUN   \n",
       "4                             DELITO DE BAJO IMPACTO  FUERO COMUN   \n",
       "\n",
       "       alcaldia_hechos municipio_hechos              colonia_datos  \\\n",
       "0       ALVARO OBREGON              NaN          LIBERALES DE 1857   \n",
       "1             COYOACAN              NaN  SANTA URSULA COAPA (PBLO)   \n",
       "2  VENUSTIANO CARRANZA              NaN                  MORELOS I   \n",
       "3        BENITO JUAREZ              NaN              DEL VALLE VII   \n",
       "4    GUSTAVO A. MADERO              NaN                LA FORESTAL   \n",
       "\n",
       "           fgj_colonia_registro  longitud   latitud  \n",
       "0             LIBERALES DE 1857 -99.21295  19.39444  \n",
       "1  PUEBLO DE SANTA URSULA COAPA -99.14214  19.31311  \n",
       "2                       MORELOS -99.12139  19.44615  \n",
       "3              DEL VALLE CENTRO -99.17495  19.36963  \n",
       "4                      FORESTAL -99.12990  19.55972  "
      ]
     },
     "execution_count": 98,
     "metadata": {},
     "output_type": "execute_result"
    }
   ],
   "source": [
    "df.head()"
   ]
  },
  {
   "cell_type": "code",
   "execution_count": 99,
   "metadata": {},
   "outputs": [
    {
     "name": "stdout",
     "output_type": "stream",
     "text": [
      "<class 'pandas.core.frame.DataFrame'>\n",
      "Int64Index: 258911 entries, 0 to 258972\n",
      "Data columns (total 20 columns):\n",
      " #   Column                Non-Null Count   Dtype  \n",
      "---  ------                --------------   -----  \n",
      " 0   ao_hechos             258911 non-null  float64\n",
      " 1   mes_hechos            258911 non-null  object \n",
      " 2   fecha_hechos          258911 non-null  object \n",
      " 3   hora_hechos           258911 non-null  object \n",
      " 4   ao_inicio             258911 non-null  int64  \n",
      " 5   mes_inicio            258911 non-null  object \n",
      " 6   fecha_inicio          258911 non-null  object \n",
      " 7   hora_inicio           258911 non-null  object \n",
      " 8   delito                258911 non-null  object \n",
      " 9   fiscalia              258911 non-null  object \n",
      " 10  agencia               258911 non-null  object \n",
      " 11  unidad_investigacion  258632 non-null  object \n",
      " 12  categoria_delito      258911 non-null  object \n",
      " 13  competencia           258911 non-null  object \n",
      " 14  alcaldia_hechos       258911 non-null  object \n",
      " 15  municipio_hechos      2601 non-null    object \n",
      " 16  colonia_datos         243206 non-null  object \n",
      " 17  fgj_colonia_registro  244169 non-null  object \n",
      " 18  longitud              258911 non-null  float64\n",
      " 19  latitud               258911 non-null  float64\n",
      "dtypes: float64(3), int64(1), object(16)\n",
      "memory usage: 41.5+ MB\n"
     ]
    }
   ],
   "source": [
    "#verificar que ya no existan registros nulos para \"ao_hechos\"\n",
    "df.info()"
   ]
  },
  {
   "cell_type": "code",
   "execution_count": 100,
   "metadata": {},
   "outputs": [
    {
     "data": {
      "text/plain": [
       "VIOLENCIA FAMILIAR                                                    40257\n",
       "FRAUDE                                                                23484\n",
       "AMENAZAS                                                              20410\n",
       "ROBO DE OBJETOS                                                       14570\n",
       "ROBO DE ACCESORIOS DE AUTO                                             9825\n",
       "                                                                      ...  \n",
       "PRIVACIÓN DE LA LIBERTAD PERSONAL  ( SI LIBERA DENTRO DE 24 HORAS)        1\n",
       "HOMICIDIO POR INMERSION                                                   1\n",
       "ROBO A PASAJERO EN ECOBUS SIN VIOLENCIA                                   1\n",
       "UTILIZACION INDEBIDA DE LA VIA PUBLICA                                    1\n",
       "CONTRA LA LEY FEDERAL DE POBLACION                                        1\n",
       "Name: delito, Length: 288, dtype: int64"
      ]
     },
     "execution_count": 100,
     "metadata": {},
     "output_type": "execute_result"
    }
   ],
   "source": [
    "#Cuantos tipos de delito se encuentran registrados en el set de datos (usar columna delito)\n",
    "df['delito'].value_counts()"
   ]
  },
  {
   "cell_type": "code",
   "execution_count": 134,
   "metadata": {},
   "outputs": [
    {
     "data": {
      "text/plain": [
       "CUAUHTEMOC    34983\n",
       "Name: alcaldia_hechos, dtype: int64"
      ]
     },
     "execution_count": 134,
     "metadata": {},
     "output_type": "execute_result"
    }
   ],
   "source": [
    "#La alcaldia con mas delitos contando los años 2022 y 2023\n",
    "df[(df['ao_hechos']==2022)+(df['ao_hechos']==2023)]['alcaldia_hechos'].value_counts().head(1)\n"
   ]
  },
  {
   "cell_type": "code",
   "execution_count": 103,
   "metadata": {},
   "outputs": [
    {
     "data": {
      "text/plain": [
       "VIOLENCIA FAMILIAR    1893\n",
       "Name: delito, dtype: int64"
      ]
     },
     "execution_count": 103,
     "metadata": {},
     "output_type": "execute_result"
    }
   ],
   "source": [
    "#El delito mas frecuente en la alcaldia XOCHIMILCO (usar columna delito)\n",
    "df[df['alcaldia_hechos']=='XOCHIMILCO']['delito'].value_counts().head(1)"
   ]
  },
  {
   "cell_type": "code",
   "execution_count": 126,
   "metadata": {},
   "outputs": [
    {
     "data": {
      "text/plain": [
       "PASEOS DE CHURUBUSCO    78\n",
       "Name: colonia_datos, dtype: int64"
      ]
     },
     "execution_count": 126,
     "metadata": {},
     "output_type": "execute_result"
    }
   ],
   "source": [
    "#La colonia con mas delitos de IZTAPALAPA en 2023\n",
    "df[(df['alcaldia_hechos']=='IZTAPALAPA')&(df['ao_hechos']==2023)]['colonia_datos'].value_counts().head(1)"
   ]
  },
  {
   "cell_type": "code",
   "execution_count": 135,
   "metadata": {},
   "outputs": [
    {
     "data": {
      "text/plain": [
       "ROBO DE OBJETOS                                11\n",
       "VIOLENCIA FAMILIAR                              7\n",
       "ROBO A NEGOCIO SIN VIOLENCIA POR FARDEROS       6\n",
       "ENCUBRIMIENTO                                   6\n",
       "FRAUDE                                          5\n",
       "ROBO DE OBJETOS DEL INTERIOR DE UN VEHICULO     4\n",
       "ROBO DE ACCESORIOS DE AUTO                      4\n",
       "Name: delito, dtype: int64"
      ]
     },
     "execution_count": 135,
     "metadata": {},
     "output_type": "execute_result"
    }
   ],
   "source": [
    "#Los 7 delitos mas comunes en la colonia obtenida en el inciso anterior\n",
    "df[(df['colonia_datos']=='PASEOS DE CHURUBUSCO')&(df['ao_hechos']==2023)]['delito'].value_counts().head(7)"
   ]
  },
  {
   "cell_type": "code",
   "execution_count": 136,
   "metadata": {},
   "outputs": [
    {
     "data": {
      "text/plain": [
       "Mayo    20885\n",
       "Name: mes_hechos, dtype: int64"
      ]
     },
     "execution_count": 136,
     "metadata": {},
     "output_type": "execute_result"
    }
   ],
   "source": [
    "#El mes con mas delitos de 2022 (usar columna 'mes_hechos')\n",
    "df[df['ao_hechos']==2022]['mes_hechos'].value_counts().head(1)"
   ]
  },
  {
   "cell_type": "code",
   "execution_count": 138,
   "metadata": {},
   "outputs": [
    {
     "data": {
      "text/plain": [
       "MILPA ALTA    2903\n",
       "Name: alcaldia_hechos, dtype: int64"
      ]
     },
     "execution_count": 138,
     "metadata": {},
     "output_type": "execute_result"
    }
   ],
   "source": [
    "#La alcaldia con menos delitos registrados en todo el dataset (ignorar \"FUERA DE CDMX\" y \"CDMX\")\n",
    "df[(df['alcaldia_hechos']!='FUERA DE CDMX')&(df['alcaldia_hechos']!='CDMX')]['alcaldia_hechos'].value_counts().tail(1)"
   ]
  },
  {
   "cell_type": "code",
   "execution_count": 108,
   "metadata": {},
   "outputs": [
    {
     "data": {
      "text/plain": [
       "IZTAPALAPA    3\n",
       "Name: alcaldia_hechos, dtype: int64"
      ]
     },
     "execution_count": 108,
     "metadata": {},
     "output_type": "execute_result"
    }
   ],
   "source": [
    "#Alcaldia con mas delitos de \"BIGAMIA\" en todo el set de datos\n",
    "df[df['delito']=='BIGAMIA']['alcaldia_hechos'].value_counts().head(1)"
   ]
  },
  {
   "cell_type": "code",
   "execution_count": 139,
   "metadata": {},
   "outputs": [
    {
     "data": {
      "text/plain": [
       "IZTAPALAPA    58\n",
       "Name: alcaldia_hechos, dtype: int64"
      ]
     },
     "execution_count": 139,
     "metadata": {},
     "output_type": "execute_result"
    }
   ],
   "source": [
    "#La alcaldia con mas casos de \"EXTORSION\" en 2022 usar columna \"ao_hechos\"\n",
    "df[(df['ao_hechos']==2022)&(df['delito']=='EXTORSION')]['alcaldia_hechos'].value_counts().head(1)\n"
   ]
  },
  {
   "cell_type": "code",
   "execution_count": 133,
   "metadata": {},
   "outputs": [
    {
     "data": {
      "text/plain": [
       "Thursday    17\n",
       "Name: dia_semana, dtype: int64"
      ]
     },
     "execution_count": 133,
     "metadata": {},
     "output_type": "execute_result"
    }
   ],
   "source": [
    "#El dia de la semana donde mas ROBO A TRANSEUNTE EN VIA PUBLICA CON VIOLENCIA hubo en Iztapalapa en el año 2023\n",
    "#(usar como referencia la columna de fecha hechos)\n",
    "#van a tener que crear uan columna nueva para saber el dia de la semana, guiño guiño\n",
    "df['fecha_hechos'] = pd.to_datetime(df['fecha_hechos'])\n",
    "df['dia_semana'] = df['fecha_hechos'].dt.day_name()\n",
    "df[(df['delito']=='ROBO A TRANSEUNTE EN VIA PUBLICA CON VIOLENCIA')&(df['alcaldia_hechos']=='IZTAPALAPA')&(df['ao_hechos']==2023)]['dia_semana'].value_counts().head(1)\n"
   ]
  },
  {
   "cell_type": "code",
   "execution_count": 140,
   "metadata": {},
   "outputs": [
    {
     "data": {
      "text/plain": [
       "PARAISO                                     2\n",
       "SANTA MARIA AZTAHUACAN (EJ) I               1\n",
       "CONSTITUCION DE 1917 II                     1\n",
       "TENORIOS                                    1\n",
       "LOS ANGELES                                 1\n",
       "VICENTE GUERRERO SUPER MANZANA 5 (U HAB)    1\n",
       "SOLIDARIDAD EL SALADO (U HAB)               1\n",
       "VICENTE GUERRERO SUPER MANZANA 6 (U HAB)    1\n",
       "DESARROLLO URBANO QUETZALCOATL  II          1\n",
       "SAN LORENZO TEZONCO (PBLO)                  1\n",
       "Name: colonia_datos, dtype: int64"
      ]
     },
     "execution_count": 140,
     "metadata": {},
     "output_type": "execute_result"
    }
   ],
   "source": [
    "#En que colonias de Iztapalapa ocurrieron los robos en el dia con mas robos?\n",
    "df[(df['delito']=='ROBO A TRANSEUNTE EN VIA PUBLICA CON VIOLENCIA')&(df['alcaldia_hechos']=='IZTAPALAPA')&(df['ao_hechos']==2023)&(df['dia_semana']=='Friday')]['colonia_datos'].value_counts()"
   ]
  },
  {
   "cell_type": "code",
   "execution_count": 155,
   "metadata": {},
   "outputs": [
    {
     "data": {
      "text/plain": [
       "CUAUHTEMOC    3131\n",
       "Name: alcaldia_hechos, dtype: int64"
      ]
     },
     "execution_count": 155,
     "metadata": {},
     "output_type": "execute_result"
    }
   ],
   "source": [
    "#Asumiendo que vivimos en un mundo donde se paga los dias 1 y 15 de cada mes, determinar que \n",
    "#alcaldia vio mas delitos durante dias de paga de quincena en el año 2022 \n",
    "df['fecha_hechos'] = pd.to_datetime(df['fecha_hechos'])\n",
    "df[(df['fecha_hechos'].dt.day == 15) + (df['fecha_hechos'].dt.day == 1)]['alcaldia_hechos'].value_counts().head(1)"
   ]
  },
  {
   "cell_type": "code",
   "execution_count": 156,
   "metadata": {},
   "outputs": [
    {
     "data": {
      "text/plain": [
       "JUAREZ         160\n",
       "CENTRO VIII    154\n",
       "CENTRO IV      149\n",
       "CUAUHTEMOC      87\n",
       "DOCTORES II     84\n",
       "Name: colonia_datos, dtype: int64"
      ]
     },
     "execution_count": 156,
     "metadata": {},
     "output_type": "execute_result"
    }
   ],
   "source": [
    "#Cuales son las 5 colonias que mas delitos vieron en dias de quincena en el año 2022 en la alcaldia resultante de la celda anterior?\n",
    "df['fecha_hechos'] = pd.to_datetime(df['fecha_hechos'])\n",
    "df[((df['fecha_hechos'].dt.day == 15)+(df['fecha_hechos'].dt.day == 1))&(df['alcaldia_hechos']=='CUAUHTEMOC')&(df['ao_hechos']==2022)]['colonia_datos'].value_counts().head(5)"
   ]
  }
 ],
 "metadata": {
  "kernelspec": {
   "display_name": "Python 3",
   "language": "python",
   "name": "python3"
  },
  "language_info": {
   "codemirror_mode": {
    "name": "ipython",
    "version": 3
   },
   "file_extension": ".py",
   "mimetype": "text/x-python",
   "name": "python",
   "nbconvert_exporter": "python",
   "pygments_lexer": "ipython3",
   "version": "3.11.0"
  },
  "orig_nbformat": 4,
  "vscode": {
   "interpreter": {
    "hash": "949777d72b0d2535278d3dc13498b2535136f6dfe0678499012e853ee9abcab1"
   }
  }
 },
 "nbformat": 4,
 "nbformat_minor": 2
}
