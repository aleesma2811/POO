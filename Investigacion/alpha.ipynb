{
 "cells": [
  {
   "cell_type": "code",
   "execution_count": 55,
   "metadata": {},
   "outputs": [
    {
     "data": {
      "text/plain": [
       "'YN76D2Q83BJ2MQQD'"
      ]
     },
     "execution_count": 55,
     "metadata": {},
     "output_type": "execute_result"
    }
   ],
   "source": [
    "'YN76D2Q83BJ2MQQD'"
   ]
  },
  {
   "cell_type": "code",
   "execution_count": 61,
   "metadata": {},
   "outputs": [
    {
     "ename": "SyntaxError",
     "evalue": "incomplete input (3954690316.py, line 35)",
     "output_type": "error",
     "traceback": [
      "\u001b[1;36m  Cell \u001b[1;32mIn[61], line 35\u001b[1;36m\u001b[0m\n\u001b[1;33m    #\"T\" intercambia filas por columnas\u001b[0m\n\u001b[1;37m                                       ^\u001b[0m\n\u001b[1;31mSyntaxError\u001b[0m\u001b[1;31m:\u001b[0m incomplete input\n"
     ]
    }
   ],
   "source": [
    "class Finanzas():\n",
    "    def __init__(self, token):\n",
    "        self.__token = token\n",
    "\n",
    "    def buscaSimbolo(self, symbol, modo='csv'):\n",
    "        import requests\n",
    "        import pandas as pd\n",
    "\n",
    "        params = { #diccionario de parámetros\n",
    "            'function':'TIME_SERIES_DAILY_ADJUSTED',\n",
    "            'symbol':symbol,\n",
    "            'apikey':self.__token,\n",
    "            'outputsize':'full'\n",
    "        }\n",
    "        url = 'https://www.alphavantage.co/query'\n",
    "        respuesta = requests.get(url=url, params=params)\n",
    "        respuesta = pd.DataFrame(respuesta.json()['Time Series (Daily)']).T.reset_index()\n",
    "        respuesta['1. open'] = respuesta['1. open'].astype('float')\n",
    "        respuesta['2. high  '] = respuesta['2. high'].astype('float')\n",
    "        respuesta['3. low'] = respuesta['3. low'].astype('float')\n",
    "        respuesta['4. close'] = respuesta['4. close'].astype('float')\n",
    "        respuesta['5. adjusted close'] = respuesta['5. adjusted close'].astype('float')\n",
    "        respuesta['6. volume'] = respuesta['6. volume'].astype('float')\n",
    "        respuesta['7. dividend amount'] = respuesta['7. dividend amount'].astype('float')\n",
    "        respuesta['8. split coefficient'] = respuesta['8. split coefficient'].astype('float')\n",
    "\n",
    "        if modo == 'csv':\n",
    "            return respuesta\n",
    "        elif modo == 'line':\n",
    "            return px.line(respuesta, x='index', y= '1. open')\n",
    "        elif modo=='velitas':\n",
    "            import plotly_express as px\n",
    "            fig = go.Figure(data = )\n",
    "        \n",
    "            \n",
    "#\"T\" intercambia filas por columnas"
   ]
  },
  {
   "cell_type": "code",
   "execution_count": null,
   "metadata": {},
   "outputs": [],
   "source": [
    "finanzas = Finanzas('YN76D2Q83BJ2MQQD')\n",
    "experimento = finanzas.buscaSimbolo('AMZN', modo='line')"
   ]
  },
  {
   "cell_type": "code",
   "execution_count": null,
   "metadata": {},
   "outputs": [
    {
     "name": "stdout",
     "output_type": "stream",
     "text": [
      "<class 'pandas.core.frame.DataFrame'>\n",
      "RangeIndex: 5915 entries, 0 to 5914\n",
      "Data columns (total 10 columns):\n",
      " #   Column                Non-Null Count  Dtype  \n",
      "---  ------                --------------  -----  \n",
      " 0   index                 5915 non-null   object \n",
      " 1   1. open               5915 non-null   float64\n",
      " 2   2. high               5915 non-null   object \n",
      " 3   3. low                5915 non-null   float64\n",
      " 4   4. close              5915 non-null   float64\n",
      " 5   5. adjusted close     5915 non-null   float64\n",
      " 6   6. volume             5915 non-null   float64\n",
      " 7   7. dividend amount    5915 non-null   float64\n",
      " 8   8. split coefficient  5915 non-null   float64\n",
      " 9   2. high               5915 non-null   float64\n",
      "dtypes: float64(8), object(2)\n",
      "memory usage: 462.2+ KB\n"
     ]
    }
   ],
   "source": [
    "experimento.info()"
   ]
  }
 ],
 "metadata": {
  "kernelspec": {
   "display_name": "Python 3",
   "language": "python",
   "name": "python3"
  },
  "language_info": {
   "codemirror_mode": {
    "name": "ipython",
    "version": 3
   },
   "file_extension": ".py",
   "mimetype": "text/x-python",
   "name": "python",
   "nbconvert_exporter": "python",
   "pygments_lexer": "ipython3",
   "version": "3.11.0"
  },
  "orig_nbformat": 4
 },
 "nbformat": 4,
 "nbformat_minor": 2
}
