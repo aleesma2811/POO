{
 "cells": [
  {
   "cell_type": "code",
   "execution_count": 1,
   "metadata": {},
   "outputs": [
    {
     "name": "stdout",
     "output_type": "stream",
     "text": [
      "<Response [200]>\n"
     ]
    }
   ],
   "source": [
    "import requests\n",
    "url_base = \"https://hp-api.onrender.com/api\"\n",
    "response = requests.get(url=f\"{url_base}/characters\")\n",
    "print(response)\n",
    "\n",
    "class hpAPI():\n",
    "    def __init__(self):\n",
    "        print(\"Objeto creado\")\n",
    "        self.__url_base = \"https://hp-api.onrender.com/api\"\n",
    "\n",
    "    def personajes(self):\n",
    "        import requests\n",
    "        import pandas as pd\n",
    "        response = requests.get(f\"{self.__url_base}/characters\")\n",
    "        return pd.DataFrame(response.json())\n",
    "    \n",
    "    def hechizos(self):\n",
    "        import requests\n",
    "        import pandas as pd\n",
    "        response = requests.get(f\"{self.__url_base}/spells\")\n",
    "        return pd.DataFrame(response.json())\n",
    "\n",
    "    def personaje_por_casa(self, casa):\n",
    "        import requests\n",
    "        import pandas as pd\n",
    "        response = requests.get(f\"{self.__url_base}/characters/house/{casa}\")\n",
    "        return pd.DataFrame(response.json())\n",
    "    "
   ]
  },
  {
   "cell_type": "code",
   "execution_count": 2,
   "metadata": {},
   "outputs": [
    {
     "name": "stdout",
     "output_type": "stream",
     "text": [
      "Objeto creado\n"
     ]
    }
   ],
   "source": [
    "harry_api = hpAPI()\n",
    "harry_api.personajes().to_csv('resultado.csv')"
   ]
  },
  {
   "cell_type": "code",
   "execution_count": 3,
   "metadata": {},
   "outputs": [],
   "source": [
    "harry_api.hechizos().to_csv('resultado.csv')"
   ]
  }
 ],
 "metadata": {
  "kernelspec": {
   "display_name": "Python 3",
   "language": "python",
   "name": "python3"
  },
  "language_info": {
   "codemirror_mode": {
    "name": "ipython",
    "version": 3
   },
   "file_extension": ".py",
   "mimetype": "text/x-python",
   "name": "python",
   "nbconvert_exporter": "python",
   "pygments_lexer": "ipython3",
   "version": "3.11.0"
  },
  "orig_nbformat": 4
 },
 "nbformat": 4,
 "nbformat_minor": 2
}
